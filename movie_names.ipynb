{
 "cells": [
  {
   "cell_type": "code",
   "execution_count": 1,
   "id": "492d3fd7",
   "metadata": {},
   "outputs": [],
   "source": [
    "import sqlalchemy\n",
    "from sqlalchemy.ext.automap import automap_base\n",
    "from sqlalchemy.orm import Session\n",
    "from sqlalchemy import create_engine, func,ForeignKey\n",
    "from sqlalchemy import Column, Date, Integer, String,Float\n",
    "from sqlalchemy.ext.declarative import declarative_base\n",
    "import pandas as pd\n",
    "import datetime as dt"
   ]
  },
  {
   "cell_type": "code",
   "execution_count": 2,
   "id": "257097e7",
   "metadata": {},
   "outputs": [],
   "source": [
    "movie_names_csv=pd.read_csv('Raw_Data\\\\IMDb title_principals.csv')"
   ]
  },
  {
   "cell_type": "code",
   "execution_count": 3,
   "id": "adda62a3",
   "metadata": {},
   "outputs": [
    {
     "data": {
      "text/plain": [
       "835513"
      ]
     },
     "execution_count": 3,
     "metadata": {},
     "output_type": "execute_result"
    }
   ],
   "source": [
    "len(movie_names_csv)"
   ]
  },
  {
   "cell_type": "code",
   "execution_count": 4,
   "id": "422f3fbf",
   "metadata": {},
   "outputs": [
    {
     "name": "stdout",
     "output_type": "stream",
     "text": [
      "<class 'pandas.core.frame.DataFrame'>\n",
      "RangeIndex: 835513 entries, 0 to 835512\n",
      "Data columns (total 6 columns):\n",
      " #   Column         Non-Null Count   Dtype \n",
      "---  ------         --------------   ----- \n",
      " 0   imdb_title_id  835513 non-null  object\n",
      " 1   ordering       835513 non-null  int64 \n",
      " 2   imdb_name_id   835513 non-null  object\n",
      " 3   category       835513 non-null  object\n",
      " 4   job            212731 non-null  object\n",
      " 5   characters     340836 non-null  object\n",
      "dtypes: int64(1), object(5)\n",
      "memory usage: 38.2+ MB\n"
     ]
    }
   ],
   "source": [
    "movie_names_csv.info()"
   ]
  },
  {
   "cell_type": "code",
   "execution_count": 5,
   "id": "e62c2698",
   "metadata": {},
   "outputs": [],
   "source": [
    "#declarative Base\n",
    "Base = declarative_base()"
   ]
  },
  {
   "cell_type": "code",
   "execution_count": 6,
   "id": "202433c1",
   "metadata": {},
   "outputs": [],
   "source": [
    "#Create Engine movies_db\n",
    "engine = create_engine(\"sqlite:///movies_db.sqlite\")"
   ]
  },
  {
   "cell_type": "code",
   "execution_count": 7,
   "id": "ad2ac046",
   "metadata": {},
   "outputs": [],
   "source": [
    "# This creates the DB (movies_dv.sqllite) and connects to it\n",
    "conn = engine.connect()"
   ]
  },
  {
   "cell_type": "code",
   "execution_count": 8,
   "id": "0cacdb8e",
   "metadata": {},
   "outputs": [],
   "source": [
    "#Define class i.e table to be created in DB\n",
    "class Movie_Names(Base):\n",
    "    __tablename__='movie_names'\n",
    "    id = Column(Integer, primary_key=True)\n",
    "    imdb_title_id = Column(String)\n",
    "    ordering = Column(Integer)\n",
    "    imdb_name_id = Column(String)\n",
    "    category = Column(String)\n",
    "    job = Column(String)\n",
    "    characters = Column(String)"
   ]
  },
  {
   "cell_type": "code",
   "execution_count": 9,
   "id": "670a387e",
   "metadata": {},
   "outputs": [],
   "source": [
    "#Creates 'movie_names' table in DB\n",
    "Base.metadata.create_all(engine)"
   ]
  },
  {
   "cell_type": "code",
   "execution_count": 10,
   "id": "fa6a159a",
   "metadata": {},
   "outputs": [],
   "source": [
    "#Inserts data from movie_names_csv to movie_names table in movies_db sqllite DB.\n",
    "movie_names_csv.to_sql('movie_names',conn,index=False,if_exists='append')"
   ]
  },
  {
   "cell_type": "code",
   "execution_count": 11,
   "id": "eff2e081",
   "metadata": {},
   "outputs": [],
   "source": [
    "conn.close()"
   ]
  },
  {
   "cell_type": "code",
   "execution_count": null,
   "id": "87b38bd8",
   "metadata": {},
   "outputs": [],
   "source": []
  }
 ],
 "metadata": {
  "kernelspec": {
   "display_name": "Python 3",
   "language": "python",
   "name": "python3"
  },
  "language_info": {
   "codemirror_mode": {
    "name": "ipython",
    "version": 3
   },
   "file_extension": ".py",
   "mimetype": "text/x-python",
   "name": "python",
   "nbconvert_exporter": "python",
   "pygments_lexer": "ipython3",
   "version": "3.8.2"
  }
 },
 "nbformat": 4,
 "nbformat_minor": 5
}
