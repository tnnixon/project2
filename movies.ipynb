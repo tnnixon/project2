{
 "cells": [
  {
   "cell_type": "code",
   "execution_count": 1,
   "id": "eb24d9a5",
   "metadata": {},
   "outputs": [],
   "source": [
    "import sqlalchemy\n",
    "from sqlalchemy.ext.automap import automap_base\n",
    "from sqlalchemy.orm import Session\n",
    "from sqlalchemy import create_engine, func,ForeignKey\n",
    "from sqlalchemy import Column, Date, Integer, String,Float\n",
    "from sqlalchemy.ext.declarative import declarative_base\n",
    "import pandas as pd\n",
    "import datetime as dt"
   ]
  },
  {
   "cell_type": "code",
   "execution_count": 2,
   "id": "80ef744d",
   "metadata": {},
   "outputs": [
    {
     "name": "stderr",
     "output_type": "stream",
     "text": [
      "c:\\hari\\python38\\lib\\site-packages\\IPython\\core\\interactiveshell.py:3165: DtypeWarning: Columns (3) have mixed types.Specify dtype option on import or set low_memory=False.\n",
      "  has_raised = await self.run_ast_nodes(code_ast.body, cell_name,\n"
     ]
    }
   ],
   "source": [
    "#Read imdb movies .csv file\n",
    "movies_csv=pd.read_csv('Raw_Data\\\\IMDb movies.csv')"
   ]
  },
  {
   "cell_type": "code",
   "execution_count": 3,
   "id": "a186a244",
   "metadata": {},
   "outputs": [
    {
     "name": "stdout",
     "output_type": "stream",
     "text": [
      "<class 'pandas.core.frame.DataFrame'>\n",
      "RangeIndex: 85855 entries, 0 to 85854\n",
      "Data columns (total 22 columns):\n",
      " #   Column                 Non-Null Count  Dtype  \n",
      "---  ------                 --------------  -----  \n",
      " 0   imdb_title_id          85855 non-null  object \n",
      " 1   title                  85855 non-null  object \n",
      " 2   original_title         85855 non-null  object \n",
      " 3   year                   85855 non-null  object \n",
      " 4   date_published         85855 non-null  object \n",
      " 5   genre                  85855 non-null  object \n",
      " 6   duration               85855 non-null  int64  \n",
      " 7   country                85791 non-null  object \n",
      " 8   language               85022 non-null  object \n",
      " 9   director               85768 non-null  object \n",
      " 10  writer                 84283 non-null  object \n",
      " 11  production_company     81400 non-null  object \n",
      " 12  actors                 85786 non-null  object \n",
      " 13  description            83740 non-null  object \n",
      " 14  avg_vote               85855 non-null  float64\n",
      " 15  votes                  85855 non-null  int64  \n",
      " 16  budget                 23710 non-null  object \n",
      " 17  usa_gross_income       15326 non-null  object \n",
      " 18  worlwide_gross_income  31016 non-null  object \n",
      " 19  metascore              13305 non-null  float64\n",
      " 20  reviews_from_users     78258 non-null  float64\n",
      " 21  reviews_from_critics   74058 non-null  float64\n",
      "dtypes: float64(4), int64(2), object(16)\n",
      "memory usage: 14.4+ MB\n"
     ]
    }
   ],
   "source": [
    "#Look at the data types of all the columns\n",
    "movies_csv.info()"
   ]
  },
  {
   "cell_type": "code",
   "execution_count": 4,
   "id": "20c1b426",
   "metadata": {},
   "outputs": [
    {
     "name": "stdout",
     "output_type": "stream",
     "text": [
      "imdb_title_id 10\n",
      "title 196\n",
      "original_title 196\n",
      "year 13.0\n",
      "date_published 13\n",
      "genre 31\n",
      "country 225.0\n",
      "language 163.0\n",
      "director 62.0\n",
      "writer 64.0\n",
      "production_company 101.0\n",
      "actors 415.0\n",
      "description 402.0\n",
      "budget 16.0\n",
      "usa_gross_income 12.0\n",
      "worlwide_gross_income 14.0\n"
     ]
    }
   ],
   "source": [
    "#Checks max lenghts of all string i.e. object columns\n",
    "for c in movies_csv:\n",
    "    if movies_csv[c].dtype=='object':\n",
    "        print(f'{c} {movies_csv[c].str.len().max()}')"
   ]
  },
  {
   "cell_type": "code",
   "execution_count": 5,
   "id": "795b23a2",
   "metadata": {},
   "outputs": [
    {
     "data": {
      "text/plain": [
       "array([1894, 1906, 1911, 1912, 1919, 1913, 1914, 1915, 1916, 1917, 1918,\n",
       "       1920, 1921, 1924, 1922, 1923, 1925, 1926, 1935, 1927, 1928, 1983,\n",
       "       1929, 1930, 1932, 1931, 1937, 1938, 1933, 1934, 1936, 1940, 1939,\n",
       "       1942, 1943, 1941, 1948, 1944, 2001, 1946, 1945, 1947, 1973, 1949,\n",
       "       1950, 1952, 1951, 1962, 1953, 1954, 1955, 1961, 1956, 1958, 1957,\n",
       "       1959, 1960, 1963, 1965, 1971, 1964, 1966, 1968, 1967, 1969, 1976,\n",
       "       1970, 1979, 1972, 1981, 1978, 2000, 1989, 1975, 1974, 1986, 1990,\n",
       "       2018, 1977, 1982, 1980, 1993, 1984, 1985, 1988, 1987, 2005, 1991,\n",
       "       2002, 1994, 1992, 1995, 2017, 1997, 1996, 2006, 1999, 1998, 2007,\n",
       "       2008, 2003, 2004, 2010, 2009, 2011, 2013, 2012, 2016, 2015, 2014,\n",
       "       2019, 2020, '2012', '2015', '2009', '2013', '2018', '2014', '2017',\n",
       "       '2011', '2016', '1981', '1975', '2010', '1984', '2007', '2006',\n",
       "       '2001', '2004', '1979', '2019', '1967', '1978', '2003', '2005',\n",
       "       '1969', '1990', '1983', '2002', '1996', '2008', '1995', '1999',\n",
       "       '1974', '1993', '1998', '1989', '2020', '1966', '1956', '1962',\n",
       "       '1985', '2000', '1971', '1970', '1986', '1930', '1976', '1982',\n",
       "       '1992', '1963', '1994', '1964', '1997', '1987', '1980',\n",
       "       'TV Movie 2019', '1988'], dtype=object)"
      ]
     },
     "execution_count": 5,
     "metadata": {},
     "output_type": "execute_result"
    }
   ],
   "source": [
    "#Year should be integer, checking which values are forcing pandas to make it string i.e. object\n",
    "movies_csv['year'].unique()"
   ]
  },
  {
   "cell_type": "code",
   "execution_count": 5,
   "id": "27c3fd5c",
   "metadata": {},
   "outputs": [],
   "source": [
    "#Replacing 'TV Movie 2019' to '2019'\n",
    "movies_csv['year']= movies_csv['year'].replace(['TV Movie 2019'],2019)"
   ]
  },
  {
   "cell_type": "code",
   "execution_count": 6,
   "id": "70a6cebc",
   "metadata": {},
   "outputs": [
    {
     "data": {
      "text/plain": [
       "array([1894, 1906, 1911, 1912, 1919, 1913, 1914, 1915, 1916, 1917, 1918,\n",
       "       1920, 1921, 1924, 1922, 1923, 1925, 1926, 1935, 1927, 1928, 1983,\n",
       "       1929, 1930, 1932, 1931, 1937, 1938, 1933, 1934, 1936, 1940, 1939,\n",
       "       1942, 1943, 1941, 1948, 1944, 2001, 1946, 1945, 1947, 1973, 1949,\n",
       "       1950, 1952, 1951, 1962, 1953, 1954, 1955, 1961, 1956, 1958, 1957,\n",
       "       1959, 1960, 1963, 1965, 1971, 1964, 1966, 1968, 1967, 1969, 1976,\n",
       "       1970, 1979, 1972, 1981, 1978, 2000, 1989, 1975, 1974, 1986, 1990,\n",
       "       2018, 1977, 1982, 1980, 1993, 1984, 1985, 1988, 1987, 2005, 1991,\n",
       "       2002, 1994, 1992, 1995, 2017, 1997, 1996, 2006, 1999, 1998, 2007,\n",
       "       2008, 2003, 2004, 2010, 2009, 2011, 2013, 2012, 2016, 2015, 2014,\n",
       "       2019, 2020, '2012', '2015', '2009', '2013', '2018', '2014', '2017',\n",
       "       '2011', '2016', '1981', '1975', '2010', '1984', '2007', '2006',\n",
       "       '2001', '2004', '1979', '2019', '1967', '1978', '2003', '2005',\n",
       "       '1969', '1990', '1983', '2002', '1996', '2008', '1995', '1999',\n",
       "       '1974', '1993', '1998', '1989', '2020', '1966', '1956', '1962',\n",
       "       '1985', '2000', '1971', '1970', '1986', '1930', '1976', '1982',\n",
       "       '1992', '1963', '1994', '1964', '1997', '1987', '1980', '1988'],\n",
       "      dtype=object)"
      ]
     },
     "execution_count": 6,
     "metadata": {},
     "output_type": "execute_result"
    }
   ],
   "source": [
    "#Data After Replacing\n",
    "movies_csv['year'].unique()"
   ]
  },
  {
   "cell_type": "code",
   "execution_count": 7,
   "id": "9fe50b2d",
   "metadata": {},
   "outputs": [],
   "source": [
    "#Convert Year to Interger from Object i.e. string\n",
    "movies_csv['year']=pd.to_numeric(movies_csv['year'])"
   ]
  },
  {
   "cell_type": "code",
   "execution_count": 8,
   "id": "6fc9be79",
   "metadata": {},
   "outputs": [
    {
     "data": {
      "text/plain": [
       "dtype('int64')"
      ]
     },
     "execution_count": 8,
     "metadata": {},
     "output_type": "execute_result"
    }
   ],
   "source": [
    "#verify after conversion\n",
    "movies_csv['year'].dtype"
   ]
  },
  {
   "cell_type": "code",
   "execution_count": 9,
   "id": "1104c418",
   "metadata": {},
   "outputs": [
    {
     "data": {
      "text/plain": [
       "array(['1894-10-09', '1906-12-26', '1911-08-19', ..., '2020-10-22',\n",
       "       '2019-01-13', '2020-09-04'], dtype=object)"
      ]
     },
     "execution_count": 9,
     "metadata": {},
     "output_type": "execute_result"
    }
   ],
   "source": [
    "#Date Published should be date, checking which values are forcing pandas to make it string i.e. object\n",
    "movies_csv['date_published'].unique()\n",
    "#Looking at it typically all values are of lenght 10 (yyyy-mm-dd)"
   ]
  },
  {
   "cell_type": "code",
   "execution_count": 10,
   "id": "2996a447",
   "metadata": {},
   "outputs": [
    {
     "data": {
      "text/plain": [
       "['TV Movie 2019']"
      ]
     },
     "execution_count": 10,
     "metadata": {},
     "output_type": "execute_result"
    }
   ],
   "source": [
    "#Finding the value that has length greater than 10\n",
    "[x for x in movies_csv['date_published'] if len(x) > 10]"
   ]
  },
  {
   "cell_type": "code",
   "execution_count": 11,
   "id": "dd475eb0",
   "metadata": {},
   "outputs": [
    {
     "data": {
      "text/html": [
       "<div>\n",
       "<style scoped>\n",
       "    .dataframe tbody tr th:only-of-type {\n",
       "        vertical-align: middle;\n",
       "    }\n",
       "\n",
       "    .dataframe tbody tr th {\n",
       "        vertical-align: top;\n",
       "    }\n",
       "\n",
       "    .dataframe thead th {\n",
       "        text-align: right;\n",
       "    }\n",
       "</style>\n",
       "<table border=\"1\" class=\"dataframe\">\n",
       "  <thead>\n",
       "    <tr style=\"text-align: right;\">\n",
       "      <th></th>\n",
       "      <th>imdb_title_id</th>\n",
       "      <th>title</th>\n",
       "      <th>original_title</th>\n",
       "      <th>year</th>\n",
       "      <th>date_published</th>\n",
       "      <th>genre</th>\n",
       "      <th>duration</th>\n",
       "      <th>country</th>\n",
       "      <th>language</th>\n",
       "      <th>director</th>\n",
       "      <th>...</th>\n",
       "      <th>actors</th>\n",
       "      <th>description</th>\n",
       "      <th>avg_vote</th>\n",
       "      <th>votes</th>\n",
       "      <th>budget</th>\n",
       "      <th>usa_gross_income</th>\n",
       "      <th>worlwide_gross_income</th>\n",
       "      <th>metascore</th>\n",
       "      <th>reviews_from_users</th>\n",
       "      <th>reviews_from_critics</th>\n",
       "    </tr>\n",
       "  </thead>\n",
       "  <tbody>\n",
       "    <tr>\n",
       "      <th>83917</th>\n",
       "      <td>tt8206668</td>\n",
       "      <td>Bad Education</td>\n",
       "      <td>Bad Education</td>\n",
       "      <td>2019</td>\n",
       "      <td>TV Movie 2019</td>\n",
       "      <td>Biography, Comedy, Crime</td>\n",
       "      <td>108</td>\n",
       "      <td>USA</td>\n",
       "      <td>English</td>\n",
       "      <td>Cory Finley</td>\n",
       "      <td>...</td>\n",
       "      <td>Hugh Jackman, Ray Romano, Welker White, Alliso...</td>\n",
       "      <td>The beloved superintendent of New York's Rosly...</td>\n",
       "      <td>7.1</td>\n",
       "      <td>23973</td>\n",
       "      <td>NaN</td>\n",
       "      <td>NaN</td>\n",
       "      <td>NaN</td>\n",
       "      <td>79.0</td>\n",
       "      <td>135.0</td>\n",
       "      <td>98.0</td>\n",
       "    </tr>\n",
       "  </tbody>\n",
       "</table>\n",
       "<p>1 rows × 22 columns</p>\n",
       "</div>"
      ],
      "text/plain": [
       "      imdb_title_id          title original_title  year date_published  \\\n",
       "83917     tt8206668  Bad Education  Bad Education  2019  TV Movie 2019   \n",
       "\n",
       "                          genre  duration country language     director  ...  \\\n",
       "83917  Biography, Comedy, Crime       108     USA  English  Cory Finley  ...   \n",
       "\n",
       "                                                  actors  \\\n",
       "83917  Hugh Jackman, Ray Romano, Welker White, Alliso...   \n",
       "\n",
       "                                             description avg_vote  votes  \\\n",
       "83917  The beloved superintendent of New York's Rosly...      7.1  23973   \n",
       "\n",
       "       budget  usa_gross_income worlwide_gross_income metascore  \\\n",
       "83917     NaN               NaN                   NaN      79.0   \n",
       "\n",
       "      reviews_from_users  reviews_from_critics  \n",
       "83917              135.0                  98.0  \n",
       "\n",
       "[1 rows x 22 columns]"
      ]
     },
     "execution_count": 11,
     "metadata": {},
     "output_type": "execute_result"
    }
   ],
   "source": [
    "#Finding the movie with publised data of 'TV Movie 2019'\n",
    "movies_csv[movies_csv['date_published']=='TV Movie 2019']"
   ]
  },
  {
   "cell_type": "code",
   "execution_count": 12,
   "id": "4747812b",
   "metadata": {},
   "outputs": [],
   "source": [
    "#By google search release date of \"Bad Education\" was 8th Sept 2019\n",
    "#Replacing the date to 8th Sept 2019\n",
    "movies_csv['date_published']= movies_csv['date_published'].replace(['TV Movie 2019'],'2019-09-08')"
   ]
  },
  {
   "cell_type": "code",
   "execution_count": 13,
   "id": "9dd0fc21",
   "metadata": {},
   "outputs": [],
   "source": [
    "#Convert date_published to Date from Object i.e. string\n",
    "#movies_csv['date_published']=pd.to_datetime(movies_csv['date_published'],format='%Y-%m-%d').dt.date\n",
    "movies_csv['date_published']=pd.to_datetime(movies_csv['date_published'],format='%Y-%m-%d')"
   ]
  },
  {
   "cell_type": "code",
   "execution_count": 14,
   "id": "8e0c844b",
   "metadata": {},
   "outputs": [
    {
     "name": "stdout",
     "output_type": "stream",
     "text": [
      "<class 'pandas.core.frame.DataFrame'>\n",
      "RangeIndex: 85855 entries, 0 to 85854\n",
      "Data columns (total 22 columns):\n",
      " #   Column                 Non-Null Count  Dtype         \n",
      "---  ------                 --------------  -----         \n",
      " 0   imdb_title_id          85855 non-null  object        \n",
      " 1   title                  85855 non-null  object        \n",
      " 2   original_title         85855 non-null  object        \n",
      " 3   year                   85855 non-null  int64         \n",
      " 4   date_published         85855 non-null  datetime64[ns]\n",
      " 5   genre                  85855 non-null  object        \n",
      " 6   duration               85855 non-null  int64         \n",
      " 7   country                85791 non-null  object        \n",
      " 8   language               85022 non-null  object        \n",
      " 9   director               85768 non-null  object        \n",
      " 10  writer                 84283 non-null  object        \n",
      " 11  production_company     81400 non-null  object        \n",
      " 12  actors                 85786 non-null  object        \n",
      " 13  description            83740 non-null  object        \n",
      " 14  avg_vote               85855 non-null  float64       \n",
      " 15  votes                  85855 non-null  int64         \n",
      " 16  budget                 23710 non-null  object        \n",
      " 17  usa_gross_income       15326 non-null  object        \n",
      " 18  worlwide_gross_income  31016 non-null  object        \n",
      " 19  metascore              13305 non-null  float64       \n",
      " 20  reviews_from_users     78258 non-null  float64       \n",
      " 21  reviews_from_critics   74058 non-null  float64       \n",
      "dtypes: datetime64[ns](1), float64(4), int64(3), object(14)\n",
      "memory usage: 14.4+ MB\n"
     ]
    }
   ],
   "source": [
    "#Verify datatype after conversion\n",
    "movies_csv.info()"
   ]
  },
  {
   "cell_type": "code",
   "execution_count": 15,
   "id": "102017e0",
   "metadata": {},
   "outputs": [],
   "source": [
    "#declarative Base\n",
    "Base = declarative_base()"
   ]
  },
  {
   "cell_type": "code",
   "execution_count": 16,
   "id": "a3c72ac4",
   "metadata": {},
   "outputs": [],
   "source": [
    "#Create Engine movies_db\n",
    "engine = create_engine(\"sqlite:///movies_db.sqlite\")"
   ]
  },
  {
   "cell_type": "code",
   "execution_count": 17,
   "id": "a861878d",
   "metadata": {},
   "outputs": [],
   "source": [
    "# This creates the DB (movies_dv.sqllite) and connects to it\n",
    "conn = engine.connect()"
   ]
  },
  {
   "cell_type": "code",
   "execution_count": 18,
   "id": "f77353cd",
   "metadata": {},
   "outputs": [],
   "source": [
    "#Define class i.e table to be created in DB\n",
    "class Movies(Base):\n",
    "    __tablename__='movies'\n",
    "    imdb_title_id = Column(String(15),primary_key=True)\n",
    "    title = Column(String(200))\n",
    "    original_title = Column(String(200))\n",
    "    year = Column(Integer)\n",
    "    date_published = Column(Date)\n",
    "    genre = Column(String(35))\n",
    "    duration = Column(Integer)\n",
    "    country = Column(String(255))\n",
    "    language = Column(String(165))\n",
    "    director = Column(String(65))\n",
    "    writer = Column(String(65))\n",
    "    production_company = Column(String(105))\n",
    "    actors = Column(String(420))\n",
    "    description = Column(String(405))\n",
    "    avg_vote = Column(Float)\n",
    "    votes = Column(Integer)\n",
    "    budget = Column(String(20))\n",
    "    usa_gross_income = Column(String(15))\n",
    "    worlwide_gross_income = Column(String(15))\n",
    "    metascore = Column(Float)\n",
    "    reviews_from_users = Column(Float)\n",
    "    reviews_from_critics = Column(Float)"
   ]
  },
  {
   "cell_type": "code",
   "execution_count": 19,
   "id": "b327469d",
   "metadata": {},
   "outputs": [],
   "source": [
    "#Creates 'movies' table in DB\n",
    "Base.metadata.create_all(engine)"
   ]
  },
  {
   "cell_type": "code",
   "execution_count": 20,
   "id": "916d626e",
   "metadata": {},
   "outputs": [],
   "source": [
    "#Inserts data from movies_csv to movies table in movies_db sqllite DB.\n",
    "movies_csv.to_sql('movies',conn,index=False,if_exists='append')"
   ]
  },
  {
   "cell_type": "code",
   "execution_count": 21,
   "id": "f28599d4",
   "metadata": {},
   "outputs": [],
   "source": [
    "#Close Connection\n",
    "conn.close()"
   ]
  },
  {
   "cell_type": "code",
   "execution_count": null,
   "id": "1e83f23d",
   "metadata": {},
   "outputs": [],
   "source": []
  }
 ],
 "metadata": {
  "kernelspec": {
   "display_name": "Python 3",
   "language": "python",
   "name": "python3"
  },
  "language_info": {
   "codemirror_mode": {
    "name": "ipython",
    "version": 3
   },
   "file_extension": ".py",
   "mimetype": "text/x-python",
   "name": "python",
   "nbconvert_exporter": "python",
   "pygments_lexer": "ipython3",
   "version": "3.8.8"
  }
 },
 "nbformat": 4,
 "nbformat_minor": 5
}
